{
 "cells": [
  {
   "cell_type": "code",
   "execution_count": 1,
   "metadata": {},
   "outputs": [],
   "source": [
    "from typing import List"
   ]
  },
  {
   "cell_type": "code",
   "execution_count": 2,
   "metadata": {},
   "outputs": [
    {
     "data": {
      "text/plain": [
       "[['5', '3', '.', '.', '7', '.', '.', '.', '.'],\n",
       " ['6', '.', '.', '1', '9', '5', '.', '.', '.'],\n",
       " ['.', '9', '8', '.', '.', '.', '.', '6', '.'],\n",
       " ['8', '.', '.', '.', '6', '.', '.', '.', '3'],\n",
       " ['4', '.', '.', '8', '.', '3', '.', '.', '1'],\n",
       " ['7', '.', '.', '.', '2', '.', '.', '.', '6'],\n",
       " ['.', '6', '.', '.', '.', '.', '2', '8', '.'],\n",
       " ['.', '.', '.', '4', '1', '9', '.', '.', '5'],\n",
       " ['.', '.', '.', '.', '8', '.', '.', '7', '9']]"
      ]
     },
     "execution_count": 2,
     "metadata": {},
     "output_type": "execute_result"
    }
   ],
   "source": [
    "board = [[\"5\",\"3\",\".\",\".\",\"7\",\".\",\".\",\".\",\".\"],[\"6\",\".\",\".\",\"1\",\"9\",\"5\",\".\",\".\",\".\"],[\".\",\"9\",\"8\",\".\",\".\",\".\",\".\",\"6\",\".\"],[\"8\",\".\",\".\",\".\",\"6\",\".\",\".\",\".\",\"3\"],[\"4\",\".\",\".\",\"8\",\".\",\"3\",\".\",\".\",\"1\"],[\"7\",\".\",\".\",\".\",\"2\",\".\",\".\",\".\",\"6\"],[\".\",\"6\",\".\",\".\",\".\",\".\",\"2\",\"8\",\".\"],[\".\",\".\",\".\",\"4\",\"1\",\"9\",\".\",\".\",\"5\"],[\".\",\".\",\".\",\".\",\"8\",\".\",\".\",\"7\",\"9\"]]\n",
    "board"
   ]
  },
  {
   "cell_type": "code",
   "execution_count": 3,
   "metadata": {},
   "outputs": [],
   "source": [
    "def print_board(bor):\n",
    "    for row in bor:\n",
    "        print(row)\n",
    "    print()"
   ]
  },
  {
   "cell_type": "code",
   "execution_count": 4,
   "metadata": {},
   "outputs": [],
   "source": [
    "from dataclasses import dataclass\n",
    "\n",
    "@dataclass\n",
    "class Box:\n",
    "    x: int\n",
    "    y: int\n",
    "    value: str\n",
    "\n",
    "class Solution:\n",
    "    sub_len = 3\n",
    "    sub_box_pos = None\n",
    "\n",
    "    def solveSudoku(self, board: List[List[str]]) -> None:\n",
    "        \"\"\"\n",
    "        Do not return anything, modify board in-place instead.\n",
    "        \"\"\"\n",
    "        empty_stack: List[Box] = []\n",
    "        for i, row in enumerate(board):\n",
    "            for j, value in enumerate(row):\n",
    "                if value == \".\":\n",
    "                    empty_stack.append(Box(i,j,\"1\"))\n",
    "\n",
    "        fill_stack: List[Box] = []\n",
    "        while empty_stack:\n",
    "            box = empty_stack.pop()\n",
    "            while int(box.value) <= 9:\n",
    "                if self.is_filled(board, box):\n",
    "                    self.fill(board, box)\n",
    "                    fill_stack.append(box)\n",
    "                    break\n",
    "                box.value = str(int(box.value) + 1)\n",
    "            else:\n",
    "                box.value = \"1\"\n",
    "                self.erase(board, box)\n",
    "                empty_stack.append(box)\n",
    "                filled_box = fill_stack.pop()\n",
    "                filled_box.value = str(int(filled_box.value) + 1)\n",
    "                empty_stack.append(filled_box)\n",
    "            \n",
    "    def get_sub_box_pos(self):\n",
    "        self.sub_box_pos = [\n",
    "            [[] for _ in range(self.sub_len)] for __ in range(self.sub_len)\n",
    "        ]\n",
    "        for x in range(self.sub_len):\n",
    "            for y in range(self.sub_len):\n",
    "                for i in range(self.sub_len):\n",
    "                    for j in range(self.sub_len):\n",
    "                        self.sub_box_pos[x][y].append((3*x+i,3*y+j)) \n",
    "\n",
    "    def is_filled(self, board: List[List[str]], box: Box) -> bool:\n",
    "        return (\n",
    "            self.is_filled_row(board, box) and\n",
    "            self.is_filled_column(board, box) and\n",
    "            self.is_filled_sub_boxes(board, box)\n",
    "        )\n",
    "\n",
    "    def is_filled_row(self, board: List[List[str]], box: Box) -> bool:\n",
    "        if box.value in board[box.x]:\n",
    "            return False\n",
    "        return True\n",
    "\n",
    "    def is_filled_column(self, board: List[List[str]], box: Box)-> bool:\n",
    "        if box.value in [row[box.y] for row in board]:\n",
    "            return False\n",
    "        return True\n",
    "\n",
    "    def is_filled_sub_boxes(self, board: List[List[str]], box: Box)-> bool:\n",
    "        x_start = self.sub_len * (box.x//self.sub_len)\n",
    "        x_end = x_start + self.sub_len\n",
    "        y_start = self.sub_len * (box.y//self.sub_len)\n",
    "        y_end = y_start + self.sub_len\n",
    "        # if self.sub_box_pos is None:\n",
    "        #     self.get_sub_box_pos()\n",
    "        # sub_boxes = [\n",
    "        #     board[x][y] for x, y in self.sub_box_pos[box.x//3][box.y//3]\n",
    "        # ]\n",
    "        sub_boxes = [\n",
    "            value for row in board[x_start:x_end] for value in row[y_start:y_end]\n",
    "        ]\n",
    "        if box.value in sub_boxes:\n",
    "            return False\n",
    "        return True\n",
    "\n",
    "    def fill(self, board: List[List[str]], box: Box) -> None:\n",
    "        board[box.x][box.y] = box.value\n",
    "\n",
    "    def erase(self, board: List[List[str]], box: Box) -> None:\n",
    "        board[box.x][box.y] = \".\"\n",
    "            "
   ]
  },
  {
   "cell_type": "code",
   "execution_count": 5,
   "metadata": {},
   "outputs": [
    {
     "name": "stdout",
     "output_type": "stream",
     "text": [
      "['5', '3', '4', '6', '7', '8', '9', '1', '2']\n",
      "['6', '7', '2', '1', '9', '5', '3', '4', '8']\n",
      "['1', '9', '8', '3', '4', '2', '5', '6', '7']\n",
      "['8', '5', '9', '7', '6', '1', '4', '2', '3']\n",
      "['4', '2', '6', '8', '5', '3', '7', '9', '1']\n",
      "['7', '1', '3', '9', '2', '4', '8', '5', '6']\n",
      "['9', '6', '1', '5', '3', '7', '2', '8', '4']\n",
      "['2', '8', '7', '4', '1', '9', '6', '3', '5']\n",
      "['3', '4', '5', '2', '8', '6', '1', '7', '9']\n"
     ]
    }
   ],
   "source": [
    "solution = Solution()\n",
    "solution.solveSudoku(board)\n",
    "for row in board:\n",
    "    print(row)"
   ]
  },
  {
   "cell_type": "code",
   "execution_count": null,
   "metadata": {},
   "outputs": [],
   "source": []
  }
 ],
 "metadata": {
  "kernelspec": {
   "display_name": "Python 3",
   "language": "python",
   "name": "python3"
  },
  "language_info": {
   "codemirror_mode": {
    "name": "ipython",
    "version": 3
   },
   "file_extension": ".py",
   "mimetype": "text/x-python",
   "name": "python",
   "nbconvert_exporter": "python",
   "pygments_lexer": "ipython3",
   "version": "3.8.3"
  }
 },
 "nbformat": 4,
 "nbformat_minor": 4
}
